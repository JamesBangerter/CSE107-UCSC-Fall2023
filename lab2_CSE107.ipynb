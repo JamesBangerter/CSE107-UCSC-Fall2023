{
 "cells": [
  {
   "cell_type": "code",
   "execution_count": 29,
   "id": "e6c2f952-92d1-4ce3-a4cd-42efaf4364ee",
   "metadata": {},
   "outputs": [],
   "source": [
    "import numpy as np\n",
    "import random as rand\n",
    "import tabulate as tab"
   ]
  },
  {
   "cell_type": "code",
   "execution_count": 30,
   "id": "a5f13218-1944-406b-aab4-7424fa89b6d3",
   "metadata": {},
   "outputs": [],
   "source": [
    "# Returns 1 for a successful Bernoulli trial with a given probability within 10%. Needs generalizing.\n",
    "def bernoulli(ratio): #takes argument of how probable a success is.\n",
    "    x = rand.randrange(100)/100\n",
    "    flip = 0\n",
    "    if x < ratio:\t\n",
    "        flip = 1\n",
    "#Debugging only    print(\"flip is\", flip)\n",
    "    return flip"
   ]
  },
  {
   "cell_type": "code",
   "execution_count": 75,
   "id": "11f1e6c2-f862-4a82-a7d5-c4a0b7e6fec8",
   "metadata": {},
   "outputs": [],
   "source": [
    "# Performs a random variable test, performing Bernoulli trials until a success with changing probability.\n",
    "def trial(num1, num2): #takes arguments of how many of each of two colors of ball there are.\n",
    "    a = num1\n",
    "    c = num2\n",
    "    probA = a/(a+c)\n",
    "    \n",
    "    i = a+c\n",
    "#Debugging    print(\"there are\", i, \"balls to start\")\n",
    "    while i>0:\n",
    "        if i==0:\n",
    "            break\n",
    "\n",
    "        # Draw the first ball and note its color, a(zure) or c(armine).\n",
    "        initial = bernoulli(probA)\n",
    "#Debugging        print(\"initial was\", initial)\n",
    "        i-=1\n",
    "#Debugging        print(i)\n",
    "\n",
    "        #Decrement a or c, recalculate probability\n",
    "        if initial == 1: # if azure, then\n",
    "            a-=1 # remove azure ball from bag\n",
    "            if a+c > 0:\n",
    "                probA = a/(a+c) # update the probability of azure\n",
    "        if initial == 0: # if carmine, then\n",
    "            c-=1 # remove carmine ball from bag\n",
    "            if a+c > 0:\n",
    "                probA = a/(a+c) # update probability of carmine\n",
    "\n",
    "        \n",
    "        # Draw until a different color ball is drawn\n",
    "        draw = bernoulli(probA)\n",
    "#Debugging        print(\"draw outside while was\", draw)\n",
    "\n",
    "        if i==0:\n",
    "            break\n",
    "            \n",
    "        while draw == initial:\n",
    "            if i==0:\n",
    "                break\n",
    "            i-=1\n",
    "#Debugging            print(i)\n",
    "\n",
    "            #Decrement a or c, recalculate probability\n",
    "            if draw == 1:\n",
    "                a-=1\n",
    "                if a+c > 0:\n",
    "                    probA = a/(a+c)\n",
    "            if draw == 0:\n",
    "                c-=1\n",
    "                if a+c > 0:\n",
    "                    probA = a/(a+c)\n",
    "\n",
    "\n",
    "            # Draw a new ball\n",
    "            draw = bernoulli(probA)\n",
    "#Debugging            print(\"draw inside while was\", draw)\n",
    "\n",
    "    return draw\n",
    "\n",
    "       "
   ]
  },
  {
   "cell_type": "code",
   "execution_count": 110,
   "id": "8132a25a-9099-4940-9dce-8228bee360bc",
   "metadata": {},
   "outputs": [],
   "source": [
    "def experiment(az, car, reps):\n",
    "    j = reps\n",
    "\n",
    "    lastAz=0\n",
    "    while j>0:\n",
    "        lastBall = trial(az, car)\n",
    "        if lastBall ==1:\n",
    "            lastAz+=1\n",
    "        j-=1\n",
    "    return lastAz"
   ]
  },
  {
   "cell_type": "code",
   "execution_count": 128,
   "id": "00a0603a-eb3f-4a80-959a-a5e968d98ec1",
   "metadata": {},
   "outputs": [],
   "source": [
    "def main():\n",
    "\n",
    "# Perform 2,000 trials with 100 balls for azure = {10, 20, 30, 40, 50}, tracking how often azure is the last ball for each.\n",
    "    lastAzure10 = experiment(10,90,2000)\n",
    "    lastAzure20 = experiment(20,80,2000)\n",
    "    lastAzure30 = experiment(30,70,2000)\n",
    "    lastAzure40 = experiment(40,60,2000)\n",
    "    lastAzure50 = experiment(50,50,2000)\n",
    "\n",
    "# Compute the relative frequency of the last ball being azure.\n",
    "    relFreq10 = lastAzure10/2000\n",
    "    relFreq20 = lastAzure20/2000\n",
    "    relFreq30 = lastAzure30/2000\n",
    "    relFreq40 = lastAzure40/2000\n",
    "    relFreq50 = lastAzure50/2000\n",
    "\n",
    "# Display a table of the number of azure and carmine as well as the relative frequency of azure as the last ball.\n",
    "    data = [[10,90,relFreq10],\n",
    "        [20,80,relFreq20],\n",
    "        [30,70,relFreq30],\n",
    "        [40,60,relFreq40],\n",
    "        [50,50,relFreq50]]\n",
    "\n",
    "    col_names = ['#azure','#carmine','proportion ending in azure']\n",
    "\n",
    "    print(tab.tabulate(data, headers=col_names, floatfmt=(\".4f\")))"
   ]
  },
  {
   "cell_type": "code",
   "execution_count": 129,
   "id": "b3103bcb-98b6-4111-bd23-1e89ceb43e79",
   "metadata": {},
   "outputs": [
    {
     "name": "stdout",
     "output_type": "stream",
     "text": [
      "  #azure    #carmine    proportion ending in azure\n",
      "--------  ----------  ----------------------------\n",
      "      10          90                        0.4935\n",
      "      20          80                        0.5040\n",
      "      30          70                        0.4955\n",
      "      40          60                        0.4930\n",
      "      50          50                        0.4985\n"
     ]
    }
   ],
   "source": [
    "main()"
   ]
  },
  {
   "cell_type": "code",
   "execution_count": null,
   "id": "2ef1b2d9-2c9c-438d-b936-c62da4de5936",
   "metadata": {},
   "outputs": [],
   "source": []
  }
 ],
 "metadata": {
  "kernelspec": {
   "display_name": "Python 3 (ipykernel)",
   "language": "python",
   "name": "python3"
  },
  "language_info": {
   "codemirror_mode": {
    "name": "ipython",
    "version": 3
   },
   "file_extension": ".py",
   "mimetype": "text/x-python",
   "name": "python",
   "nbconvert_exporter": "python",
   "pygments_lexer": "ipython3",
   "version": "3.11.5"
  }
 },
 "nbformat": 4,
 "nbformat_minor": 5
}
