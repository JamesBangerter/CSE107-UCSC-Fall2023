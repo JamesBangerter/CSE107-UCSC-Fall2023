{
 "cells": [
  {
   "cell_type": "code",
   "execution_count": null,
   "id": "6d22e812-33d5-40e8-8308-a62cb9471372",
   "metadata": {},
   "outputs": [],
   "source": [
    "# This code is used to complete the requirements of CSE107 lab 3 instructions at https://people.ucsc.edu/~ptantalo/cse107/Fall23/lab3.pdf"
   ]
  },
  {
   "cell_type": "code",
   "execution_count": 84,
   "id": "87968cc9-db45-4cf3-95c6-ad8d56c06b73",
   "metadata": {},
   "outputs": [],
   "source": [
    "import numpy as np\n",
    "import random as rand\n",
    "import tabulate"
   ]
  },
  {
   "cell_type": "code",
   "execution_count": 4,
   "id": "0be02561-8e25-41c5-b86f-94a6dd8985ef",
   "metadata": {},
   "outputs": [],
   "source": [
    "# Returns 1 for a successful Bernoulli trial with a given probability within 10%. Needs generalizing.\n",
    "def bernoulli(ratio): #takes argument of how probable a success is.\n",
    "    x = rand.randrange(100)/100\n",
    "    flip = 0\n",
    "    if x < ratio:\t\n",
    "        flip = 1\n",
    "#Debugging only    print(\"flip is\", flip)\n",
    "    return flip"
   ]
  },
  {
   "cell_type": "code",
   "execution_count": 246,
   "id": "be8926dc-e760-4435-859b-b4f9674dba30",
   "metadata": {},
   "outputs": [],
   "source": [
    "def format_zeroes(matrix):\n",
    "    return [[val if val != 0 else '' for val in row] for row in matrix]"
   ]
  },
  {
   "cell_type": "code",
   "execution_count": 62,
   "id": "c634e327-cb77-46e4-8079-716dc7518665",
   "metadata": {},
   "outputs": [],
   "source": [
    "# run a trial of n weeks with sum of successes for p-probability q-probability bernoulli \n",
    "# tuple that has q conditioned on successful p, over a number n attempts.\n",
    "\n",
    "def trial(p,q,n):\n",
    "    a=0\n",
    "    b=0\n",
    "    i=0\n",
    "    \n",
    "    while i < n:\n",
    "        aTry = bernoulli(p)\n",
    "        a+=aTry\n",
    "        if aTry == 1:\n",
    "            bTry = bernoulli(q)\n",
    "            b+=bTry\n",
    "        i+=1\n",
    "    return(a,b)"
   ]
  },
  {
   "cell_type": "code",
   "execution_count": 510,
   "id": "f333ec5d-1146-42cc-984d-e5bf6229c11c",
   "metadata": {},
   "outputs": [],
   "source": [
    "# format the table correctly for this particular report.\n",
    "\n",
    "def format_table(matrix):\n",
    "    for i in range (len(matrix)):\n",
    "        for j in range(len(matrix[i])):\n",
    "            matrix[i][j] = np.round(matrix[i][j], 4)\n",
    "\n",
    "    for index, row in enumerate(matrix):\n",
    "        row.insert(0, '|')\n",
    "        row.insert(0, str(index))\n",
    "\n",
    "    matrix = format_zeroes(matrix)\n",
    "\n",
    "    for i in range(len(matrix)):\n",
    "        for j in range(len(matrix[i])):\n",
    "            if matrix[i][j] == '' and j < i+2:\n",
    "                matrix[i][j] = '0.0000'\n",
    "            \n",
    "    if matrix[7][2] == '':\n",
    "        matrix[7][2] = '0.0000'\n",
    "\n",
    "    for i in range (len(matrix)):\n",
    "        for j in range(len(matrix[i])):\n",
    "            if isinstance(matrix[i][j], float):\n",
    "                matrix[i][j] = f\"{matrix[i][j]:.4f}\"\n",
    "\n",
    "    y_header = ['x', 'y:', '0', '1', '2', '3', '4', '5', '6', '7' ]\n",
    "    table = tabulate.tabulate(matrix, headers=y_header, floatfmt='.4f')\n",
    "\n",
    "    return table"
   ]
  },
  {
   "cell_type": "code",
   "execution_count": 511,
   "id": "28220e26-9227-4878-aa8a-743664bbe194",
   "metadata": {},
   "outputs": [],
   "source": [
    "# Probability p = 0.6 to play, q = 0.7 to win, for n = 7 weeks.\n",
    "\n",
    "playProb = 0.6\n",
    "winProb = 0.7\n",
    "numWeeks = 7\n",
    "numTrials = 100000\n",
    "\n",
    "experiment_results = [\n",
    "    [0, 0, 0, 0, 0, 0, 0, 0],\n",
    "    [0, 0, 0, 0, 0, 0, 0, 0],\n",
    "    [0, 0, 0, 0, 0, 0, 0, 0],\n",
    "    [0, 0, 0, 0, 0, 0, 0, 0],\n",
    "    [0, 0, 0, 0, 0, 0, 0, 0],\n",
    "    [0, 0, 0, 0, 0, 0, 0, 0],\n",
    "    [0, 0, 0, 0, 0, 0, 0, 0],\n",
    "    [0, 0, 0, 0, 0, 0, 0, 0]]\n",
    "                        \n",
    "# Run the required number of trials, incrementing sums in PMF matrix\n",
    "j=0\n",
    "while j < numTrials:\n",
    "    x,y = trial(playProb, winProb, numWeeks)\n",
    "    experiment_results[x][y] += 1\n",
    "    j+=1\n",
    "\n"
   ]
  },
  {
   "cell_type": "code",
   "execution_count": 512,
   "id": "48c9f1df-aa7b-4e63-96db-4a548b7cb462",
   "metadata": {},
   "outputs": [],
   "source": [
    "# Calculate the pmf.\n",
    "\n",
    "pmfXY = [row[:] for row in experiment_results]\n",
    "for i in range(len(pmfXY)):\n",
    "    for j in range(len(pmfXY[i])):\n",
    "                   pmfXY[i][j] /= numTrials"
   ]
  },
  {
   "cell_type": "code",
   "execution_count": 513,
   "id": "54dbae14-6ac4-4116-817e-feaf1447f73b",
   "metadata": {},
   "outputs": [
    {
     "name": "stdout",
     "output_type": "stream",
     "text": [
      "0.9999999999999999\n"
     ]
    }
   ],
   "source": [
    "pmfXY_sum = sum(sum(row) for row in pmfXY)\n",
    "print(pmfXY_sum) # Validate pmf"
   ]
  },
  {
   "cell_type": "code",
   "execution_count": 514,
   "id": "52e8cd51-06cc-4977-be0b-a3d071fc8fec",
   "metadata": {},
   "outputs": [],
   "source": [
    "# Calculate marginal pmfs\n",
    "\n",
    "pmfX = [0, 0, 0, 0, 0, 0, 0, 0]\n",
    "pmfY = [0, 0, 0, 0, 0, 0, 0, 0]\n",
    "\n",
    "for i in range(len(pmfX)):\n",
    "    for j in range(len(pmfXY[i])):\n",
    "        pmfX[i] += pmfXY[i][j]\n",
    "\n",
    "for i in range(len(pmfXY)):\n",
    "    for j in range(len(pmfXY[i])):\n",
    "        pmfY[j] += pmfXY[i][j]\n",
    "    "
   ]
  },
  {
   "cell_type": "code",
   "execution_count": 515,
   "id": "41059935-fb42-4d7c-95c9-3518bca1af89",
   "metadata": {},
   "outputs": [],
   "source": [
    "pmfX_sum = sum(pmfX)\n",
    "pmfY_sum = sum(pmfY)"
   ]
  },
  {
   "cell_type": "code",
   "execution_count": 516,
   "id": "a8a4e0cb-83bc-42d0-989b-fd884917eb56",
   "metadata": {},
   "outputs": [
    {
     "name": "stdout",
     "output_type": "stream",
     "text": [
      "0.9999999999999999\n"
     ]
    }
   ],
   "source": [
    "print(pmfX_sum) # Validate pmf"
   ]
  },
  {
   "cell_type": "code",
   "execution_count": 517,
   "id": "79308d3c-7524-4412-89b4-edffb874465c",
   "metadata": {},
   "outputs": [
    {
     "name": "stdout",
     "output_type": "stream",
     "text": [
      "1.0\n"
     ]
    }
   ],
   "source": [
    "print(pmfY_sum) # Validate pmf"
   ]
  },
  {
   "cell_type": "code",
   "execution_count": 518,
   "id": "d7faf34d-3897-42e8-8e4d-c9402810d699",
   "metadata": {},
   "outputs": [
    {
     "name": "stdout",
     "output_type": "stream",
     "text": [
      "8.0\n"
     ]
    }
   ],
   "source": [
    "# Calculate pmf of x given y\n",
    "\n",
    "pmfXgivY = [row[:] for row in pmfXY]\n",
    "for i in range(len(pmfXgivY)):\n",
    "    for j in range(len(pmfXgivY[i])):\n",
    "                   pmfXgivY[i][j] /= pmfY[j]\n",
    "\n",
    "pmfXgivY_sum = sum(sum(row) for row in pmfXgivY)\n",
    "print(pmfXgivY_sum) # Validate it equals 1 for each y"
   ]
  },
  {
   "cell_type": "code",
   "execution_count": 519,
   "id": "716ea7ba-b065-4048-8c40-24292f34d8bb",
   "metadata": {},
   "outputs": [
    {
     "name": "stdout",
     "output_type": "stream",
     "text": [
      "8.0\n"
     ]
    }
   ],
   "source": [
    "# Calculate pmf of y given x\n",
    "\n",
    "pmfYgivX = [row[:] for row in pmfXY]\n",
    "for i in range(len(pmfYgivX)):\n",
    "    for j in range(len(pmfYgivX[i])):\n",
    "                   pmfYgivX[i][j] /= pmfX[i]\n",
    "\n",
    "pmfYgivX_sum = sum(sum(row) for row in pmfYgivX)\n",
    "print(pmfYgivX_sum) # Validate it equals 1 for each x"
   ]
  },
  {
   "cell_type": "code",
   "execution_count": 520,
   "id": "7f65d27e-6965-4abe-9dde-304819f85ba2",
   "metadata": {},
   "outputs": [
    {
     "name": "stdout",
     "output_type": "stream",
     "text": [
      "  x  y:           0  1     2     3      4     5     6     7\n",
      "---  ----  --------  ----  ----  -----  ----  ----  ----  ---\n",
      "  0  |     149.0000\n",
      "  1  |     539.0000  1180\n",
      "  2  |     694.0000  3317  3783\n",
      "  3  |     528.0000  3597  8580  6810\n",
      "  4  |     259.0000  2123  7796  11800  7014\n",
      "  5  |      60.0000  787   3517  8000   9236  4395\n",
      "  6  |      12.0000  127   798   2417   4222  3939  1515\n",
      "  7  |       1.0000  9     69    300    610   870   689   258\n"
     ]
    }
   ],
   "source": [
    "print(format_table(experiment_results))"
   ]
  },
  {
   "cell_type": "code",
   "execution_count": 521,
   "id": "6cb84301-17c9-4e89-9975-06e8a7c77235",
   "metadata": {},
   "outputs": [
    {
     "name": "stdout",
     "output_type": "stream",
     "text": [
      "Joint PMF of X and Y\n",
      "  x  y:         0  1       2       3       4       5       6       7\n",
      "---  ----  ------  ------  ------  ------  ------  ------  ------  ------\n",
      "  0  |     0.0015\n",
      "  1  |     0.0054  0.0118\n",
      "  2  |     0.0069  0.0332  0.0378\n",
      "  3  |     0.0053  0.0360  0.0858  0.0681\n",
      "  4  |     0.0026  0.0212  0.0780  0.1180  0.0701\n",
      "  5  |     0.0006  0.0079  0.0352  0.0800  0.0924  0.0440\n",
      "  6  |     0.0001  0.0013  0.0080  0.0242  0.0422  0.0394  0.0152\n",
      "  7  |     0.0000  0.0001  0.0007  0.0030  0.0061  0.0087  0.0069  0.0026\n"
     ]
    }
   ],
   "source": [
    "table = format_table(pmfXY)\n",
    "print('Joint PMF of X and Y')\n",
    "print(table)"
   ]
  },
  {
   "cell_type": "code",
   "execution_count": 522,
   "id": "3ced1275-2bdc-4f1d-9eab-7aa24c6fd808",
   "metadata": {},
   "outputs": [
    {
     "name": "stdout",
     "output_type": "stream",
     "text": [
      "Conditional PMF of X given Y\n",
      "  x  y:         0  1       2       3       4       5       6       7\n",
      "---  ----  ------  ------  ------  ------  ------  ------  ------  ------\n",
      "  0  |     0.0665\n",
      "  1  |     0.2404  0.1059\n",
      "  2  |     0.3095  0.2978  0.1541\n",
      "  3  |     0.2355  0.3229  0.3496  0.2322\n",
      "  4  |     0.1155  0.1906  0.3176  0.4024  0.3327\n",
      "  5  |     0.0268  0.0706  0.1433  0.2728  0.4381  0.4775\n",
      "  6  |     0.0054  0.0114  0.0325  0.0824  0.2003  0.4280  0.6874\n",
      "  7  |     0.0004  0.0008  0.0028  0.0102  0.0289  0.0945  0.3126  1.0000\n"
     ]
    }
   ],
   "source": [
    "table = format_table(pmfXgivY)\n",
    "print('Conditional PMF of X given Y')\n",
    "print(table)"
   ]
  },
  {
   "cell_type": "code",
   "execution_count": 523,
   "id": "634bdde5-72e8-41ca-94a8-797d09a72483",
   "metadata": {},
   "outputs": [
    {
     "name": "stdout",
     "output_type": "stream",
     "text": [
      "Conditional PMF of Y given X\n",
      "  x  y:         0  1       2       3       4       5       6       7\n",
      "---  ----  ------  ------  ------  ------  ------  ------  ------  ------\n",
      "  0  |     1.0000\n",
      "  1  |     0.3136  0.6864\n",
      "  2  |     0.0890  0.4256  0.4854\n",
      "  3  |     0.0271  0.1843  0.4397  0.3490\n",
      "  4  |     0.0089  0.0732  0.2689  0.4070  0.2419\n",
      "  5  |     0.0023  0.0303  0.1353  0.3078  0.3553  0.1691\n",
      "  6  |     0.0009  0.0097  0.0612  0.1855  0.3240  0.3023  0.1163\n",
      "  7  |     0.0004  0.0032  0.0246  0.1069  0.2174  0.3100  0.2455  0.0919\n"
     ]
    }
   ],
   "source": [
    "table = format_table(pmfYgivX)\n",
    "print('Conditional PMF of Y given X')\n",
    "print(table)"
   ]
  },
  {
   "cell_type": "code",
   "execution_count": null,
   "id": "ca5f3bdb-f11c-4969-aa61-7537f3de3260",
   "metadata": {},
   "outputs": [],
   "source": []
  },
  {
   "cell_type": "code",
   "execution_count": null,
   "id": "c5992841-df2f-4261-9753-9ac64414e90c",
   "metadata": {},
   "outputs": [],
   "source": []
  }
 ],
 "metadata": {
  "kernelspec": {
   "display_name": "Python 3 (ipykernel)",
   "language": "python",
   "name": "python3"
  },
  "language_info": {
   "codemirror_mode": {
    "name": "ipython",
    "version": 3
   },
   "file_extension": ".py",
   "mimetype": "text/x-python",
   "name": "python",
   "nbconvert_exporter": "python",
   "pygments_lexer": "ipython3",
   "version": "3.11.5"
  }
 },
 "nbformat": 4,
 "nbformat_minor": 5
}
