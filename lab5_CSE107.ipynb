{
 "cells": [
  {
   "cell_type": "code",
   "execution_count": 46,
   "id": "a334d7ca-bd91-4880-b556-675b4fd61614",
   "metadata": {},
   "outputs": [],
   "source": [
    "import numpy as np\n",
    "import random as rand\n",
    "import tabulate as tab"
   ]
  },
  {
   "cell_type": "code",
   "execution_count": 47,
   "id": "1eb2db0a-260b-4313-9b86-2f24d5fc666e",
   "metadata": {},
   "outputs": [],
   "source": [
    "# Generate any exponential random variable given lambda parameter.\n",
    "\n",
    "def exponential(lam): # lam is lambda parameter \n",
    "    x = rand.randrange(1000)/1000 # Random x between 0 and 1 to 4 decimals\n",
    "    param = 1/(1-x) # The parameter for the natural log\n",
    "    ln = np.log(param)\n",
    "    result = (1/lam)*ln\n",
    "    return result"
   ]
  },
  {
   "cell_type": "code",
   "execution_count": 97,
   "id": "bbf326aa-204f-4171-a71b-5866545d890c",
   "metadata": {},
   "outputs": [],
   "source": [
    "def experiment(n): # parameter n is how many times to repeat trial\n",
    "\n",
    "    integer = [0, 1, 2, 3, 4, 5, 6, 7, 8, 9]\n",
    "    decimal = [.0, .1, .2, .3, .4, .5, .6, .7, .8, .9]\n",
    "\n",
    "    cdfArray = np.zeros((10,10))\n",
    "\n",
    "    # Accumulate the number of experiments \n",
    "    def sumCDF(sample):\n",
    "        for i in range(cdfArray.shape[0]):\n",
    "            for j in range(cdfArray.shape[1]):\n",
    "                if sample <= integer[i] + decimal[j]:\n",
    "                    cdfArray[i,j] += 1\n",
    "\n",
    "\n",
    "    # Sample from the erlang distribution and calculate the \n",
    "    for m in range(n):\n",
    "        y1 = exponential(1)\n",
    "        y2 = exponential(1)\n",
    "        erlang = y1 + y2\n",
    "        sumCDF(erlang)\n",
    "\n",
    "    cdfArray = cdfArray/n\n",
    "    return cdfArray"
   ]
  },
  {
   "cell_type": "code",
   "execution_count": 98,
   "id": "3de1efe9-23db-4985-bff6-f1116e681470",
   "metadata": {},
   "outputs": [],
   "source": [
    "def format_table(array):\n",
    "    \n",
    "    for i in range(array.shape[0]):\n",
    "        for j in range(array.shape[1]):\n",
    "            array[i,j] = np.round(array[i,j], 4)\n",
    "\n",
    "    matrix = array.tolist()\n",
    "    for i in range(len(matrix)):\n",
    "        for j in range(len(matrix[i])):\n",
    "            matrix[i][j] = f\"{matrix[i][j]:.4f}\"\n",
    "\n",
    "\n",
    "    column_header = [' ','.0','.1','.2','.3','.4','.5','.6','.7','.8','.9']\n",
    "    row_header = ['0.0 |','1.0 |','2.0 |','3.0 |','4.0 |','5.0 |',\n",
    "                  '6.0 |','7.0 |','8.0 |','9.0 |']\n",
    "    \n",
    "    for index, row in enumerate(matrix):\n",
    "        row.insert(0, row_header[index])\n",
    "\n",
    "    table = tab.tabulate(matrix, headers=column_header, floatfmt='.4f')\n",
    "\n",
    "    print(table)"
   ]
  },
  {
   "cell_type": "code",
   "execution_count": 99,
   "id": "ddfac212-3578-47c6-a230-9aad122b2c3c",
   "metadata": {},
   "outputs": [
    {
     "name": "stdout",
     "output_type": "stream",
     "text": [
      "Sum of Exponentials CDF:\n",
      "           .0      .1      .2      .3      .4      .5      .6      .7      .8      .9\n",
      "-----  ------  ------  ------  ------  ------  ------  ------  ------  ------  ------\n",
      "0.0 |  0.0000  0.0051  0.0198  0.0396  0.0643  0.0930  0.1250  0.1600  0.1966  0.2304\n",
      "1.0 |  0.2657  0.3010  0.3364  0.3737  0.4107  0.4454  0.4782  0.5112  0.5412  0.5710\n",
      "2.0 |  0.5988  0.6265  0.6512  0.6743  0.6962  0.7170  0.7362  0.7563  0.7728  0.7889\n",
      "3.0 |  0.8047  0.8189  0.8332  0.8456  0.8566  0.8668  0.8766  0.8862  0.8948  0.9032\n",
      "4.0 |  0.9112  0.9178  0.9244  0.9314  0.9368  0.9414  0.9468  0.9513  0.9554  0.9583\n",
      "5.0 |  0.9616  0.9652  0.9678  0.9704  0.9728  0.9751  0.9767  0.9789  0.9813  0.9828\n",
      "6.0 |  0.9845  0.9861  0.9876  0.9886  0.9893  0.9900  0.9908  0.9914  0.9922  0.9927\n",
      "7.0 |  0.9932  0.9938  0.9944  0.9952  0.9953  0.9958  0.9962  0.9966  0.9968  0.9972\n",
      "8.0 |  0.9973  0.9976  0.9978  0.9981  0.9983  0.9984  0.9986  0.9987  0.9989  0.9990\n",
      "9.0 |  0.9992  0.9992  0.9993  0.9993  0.9993  0.9993  0.9994  0.9994  0.9996  0.9996\n"
     ]
    }
   ],
   "source": [
    "result = experiment(20000)\n",
    "\n",
    "print('Sum of Exponentials CDF:')\n",
    "format_table(result)"
   ]
  },
  {
   "cell_type": "code",
   "execution_count": null,
   "id": "07f6ac2b-1c06-480e-b2b3-91247aa1db80",
   "metadata": {},
   "outputs": [],
   "source": []
  },
  {
   "cell_type": "code",
   "execution_count": null,
   "id": "09252e66-ff6f-49e7-b674-d83b085b734a",
   "metadata": {},
   "outputs": [],
   "source": []
  }
 ],
 "metadata": {
  "kernelspec": {
   "display_name": "Python 3 (ipykernel)",
   "language": "python",
   "name": "python3"
  },
  "language_info": {
   "codemirror_mode": {
    "name": "ipython",
    "version": 3
   },
   "file_extension": ".py",
   "mimetype": "text/x-python",
   "name": "python",
   "nbconvert_exporter": "python",
   "pygments_lexer": "ipython3",
   "version": "3.11.5"
  }
 },
 "nbformat": 4,
 "nbformat_minor": 5
}
