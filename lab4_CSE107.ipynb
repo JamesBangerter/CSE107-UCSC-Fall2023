{
 "cells": [
  {
   "cell_type": "code",
   "execution_count": null,
   "id": "829f0c86-f646-4c22-8605-e62e515c5c1a",
   "metadata": {},
   "outputs": [],
   "source": [
    "# This code is to execute instructions found in Lab 4 for CSE107, Probability and Statistics\n",
    "# for Engineers, taught by Prof. Patrick Tantalo at UCSC Fall 2023. These instructions can be \n",
    "# found at https://people.ucsc.edu/%7Eptantalo/cse107/Fall23/lab4.pdf"
   ]
  },
  {
   "cell_type": "code",
   "execution_count": 3,
   "id": "7e2d8969-f320-4fca-95f3-9a90a0840928",
   "metadata": {},
   "outputs": [],
   "source": [
    "import numpy as np\n",
    "import random as rand\n",
    "import tabulate as tab"
   ]
  },
  {
   "cell_type": "code",
   "execution_count": 4,
   "id": "a5f13218-1944-406b-aab4-7424fa89b6d3",
   "metadata": {},
   "outputs": [],
   "source": [
    "# Returns 1 for a successful Bernoulli trial with a given probability within 10%. Needs generalizing.\n",
    "def bernoulli(ratio): #takes argument of how probable a success is.\n",
    "    x = rand.randrange(100)/100\n",
    "    flip = 0\n",
    "    if x < ratio:\t\n",
    "        flip = 1\n",
    "#Debugging only    print(\"flip is\", flip)\n",
    "    return flip"
   ]
  },
  {
   "cell_type": "code",
   "execution_count": 32,
   "id": "8c3c562c-da3c-4d19-bc34-494fefb4b986",
   "metadata": {},
   "outputs": [],
   "source": [
    "def trial(p, q):\n",
    "\n",
    "    success = 0\n",
    "    i = 0\n",
    "    while success == 0:\n",
    "        success = bernoulli(p)\n",
    "        i+=1\n",
    "\n",
    "    result = 0\n",
    "    j = 0\n",
    "    while j < i:\n",
    "        result += bernoulli(q)\n",
    "        j+=1\n",
    "    \n",
    "    # print(result) debugging only\n",
    "    return result"
   ]
  },
  {
   "cell_type": "code",
   "execution_count": 52,
   "id": "e22f54c9-d21c-462a-a7f6-b04b23b86525",
   "metadata": {},
   "outputs": [],
   "source": [
    "def experiment(p,q,numTrials):\n",
    "\n",
    "    test = np.zeros(numTrials)\n",
    "    i=0\n",
    "    while i < numTrials:\n",
    "        test[i] = trial(p, q)\n",
    "        i+=1\n",
    "\n",
    "    sum = np.sum(test)\n",
    "    mean = sum/numTrials\n",
    "\n",
    "    error = test - mean\n",
    "    squareErr = error**2\n",
    "    variance = np.sum(squareErr)/(numTrials-1)\n",
    "    \n",
    "    return mean, variance"
   ]
  },
  {
   "cell_type": "code",
   "execution_count": 73,
   "id": "6681ddb9-4a90-4fe8-b251-470315b01899",
   "metadata": {},
   "outputs": [],
   "source": [
    "def format_table(array):\n",
    "    \n",
    "    for i in range(array.shape[0]):\n",
    "        for j in range(array.shape[1]):\n",
    "            array[i,j] = np.round(array[i,j], 3)\n",
    "\n",
    "    matrix = array.tolist()\n",
    "    for i in range(len(matrix)):\n",
    "        for j in range(len(matrix[i])):\n",
    "            matrix[i][j] = f\"{matrix[i][j]:.3f}\"\n",
    "\n",
    "    x_header = ['0.1', '0.2', '0.3', '0.4', '0.5', '0.6', '0.7', '0.8', '0.9']\n",
    "    for index, row in enumerate(matrix):\n",
    "        row.insert(0, '|')\n",
    "        row.insert(0, x_header[index])\n",
    "\n",
    "    y_header = ['p', 'q:', '0.1', '0.2', '0.3', '0.4', '0.5', '0.6', '0.7', '0.8', '0.9']\n",
    "    \n",
    "    floatFormats = ['.1f'] + (['.3f']*10)\n",
    "    table = tab.tabulate(matrix, headers=y_header, floatfmt=floatFormats)\n",
    "\n",
    "    print(table)"
   ]
  },
  {
   "cell_type": "code",
   "execution_count": 74,
   "id": "aa2de6d3-b3f6-42ed-9c5e-fa8ab3dd9ed8",
   "metadata": {},
   "outputs": [],
   "source": [
    "p = [0.1, 0.2, 0.3, 0.4, 0.5, 0.6, 0.7, 0.8, 0.9]\n",
    "q = [0.1, 0.2, 0.3, 0.4, 0.5, 0.6, 0.7, 0.8, 0.9]\n",
    "n = 10000\n",
    "\n",
    "meanArray = np.zeros((9,9))\n",
    "varArray = np.zeros((9,9))\n",
    "\n",
    "for i in range(meanArray.shape[0]):\n",
    "    for j in range(meanArray.shape[1]):\n",
    "        meanArray[i, j], varArray[i, j] = experiment(p[i],q[j],n)"
   ]
  },
  {
   "cell_type": "code",
   "execution_count": 75,
   "id": "d32547f1-0349-41cc-b97f-5cee14260254",
   "metadata": {},
   "outputs": [
    {
     "name": "stdout",
     "output_type": "stream",
     "text": [
      "mean\n",
      "  p  q:      0.1    0.2    0.3    0.4    0.5    0.6    0.7    0.8    0.9\n",
      "---  ----  -----  -----  -----  -----  -----  -----  -----  -----  -----\n",
      "0.1  |     0.989  2.029  2.978  4.053  4.947  6.075  6.912  8.015  9.037\n",
      "0.2  |     0.500  1.014  1.541  1.977  2.506  3.050  3.550  4.026  4.481\n",
      "0.3  |     0.342  0.665  0.987  1.349  1.706  2.017  2.319  2.656  2.949\n",
      "0.4  |     0.254  0.507  0.750  0.991  1.246  1.479  1.756  2.006  2.262\n",
      "0.5  |     0.189  0.409  0.595  0.782  1.006  1.186  1.393  1.614  1.805\n",
      "0.6  |     0.170  0.335  0.488  0.654  0.831  1.004  1.180  1.325  1.491\n",
      "0.7  |     0.144  0.285  0.428  0.576  0.720  0.862  1.006  1.138  1.286\n",
      "0.8  |     0.127  0.246  0.380  0.506  0.627  0.739  0.878  1.006  1.120\n",
      "0.9  |     0.111  0.221  0.336  0.445  0.555  0.658  0.780  0.893  1.000\n",
      "\n",
      "variance\n",
      "  p  q:      0.1    0.2     0.3     0.4     0.5     0.6     0.7     0.8     0.9\n",
      "---  ----  -----  -----  ------  ------  ------  ------  ------  ------  ------\n",
      "0.1  |     1.769  5.505  10.096  16.983  24.605  36.175  44.531  57.795  73.831\n",
      "0.2  |     0.643  1.635   3.042   4.422   6.098   8.600  11.325  13.799  16.228\n",
      "0.3  |     0.379  0.824   1.369   2.035   2.952   3.606   4.491   5.254   6.240\n",
      "0.4  |     0.271  0.580   0.878   1.200   1.523   1.837   2.373   2.846   3.432\n",
      "0.5  |     0.190  0.403   0.582   0.790   1.007   1.176   1.405   1.641   1.847\n",
      "0.6  |     0.162  0.321   0.439   0.574   0.699   0.804   0.915   0.995   1.031\n",
      "0.7  |     0.137  0.248   0.353   0.441   0.515   0.553   0.600   0.620   0.640\n",
      "0.8  |     0.118  0.210   0.293   0.348   0.387   0.417   0.417   0.395   0.359\n",
      "0.9  |     0.101  0.180   0.249   0.285   0.302   0.305   0.295   0.259   0.203\n"
     ]
    }
   ],
   "source": [
    "print('mean')\n",
    "format_table(meanArray)\n",
    "print('')\n",
    "print('variance')\n",
    "format_table(varArray)"
   ]
  },
  {
   "cell_type": "code",
   "execution_count": null,
   "id": "90061dd9-5f6d-42d1-b780-76a25fce5a20",
   "metadata": {},
   "outputs": [],
   "source": []
  }
 ],
 "metadata": {
  "kernelspec": {
   "display_name": "Python 3 (ipykernel)",
   "language": "python",
   "name": "python3"
  },
  "language_info": {
   "codemirror_mode": {
    "name": "ipython",
    "version": 3
   },
   "file_extension": ".py",
   "mimetype": "text/x-python",
   "name": "python",
   "nbconvert_exporter": "python",
   "pygments_lexer": "ipython3",
   "version": "3.11.5"
  }
 },
 "nbformat": 4,
 "nbformat_minor": 5
}
